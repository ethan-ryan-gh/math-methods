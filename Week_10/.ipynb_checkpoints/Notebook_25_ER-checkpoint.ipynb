{
 "cells": [
  {
   "cell_type": "markdown",
   "metadata": {},
   "source": [
    "# 2D Laplace Equation Numerical Solution\n",
    "\n",
    "In this Jupyter Notebook we will solve Laplace's Equation for a certain set of boundary conditions using a numerical method, rather than by separation of variables.\n",
    "\n",
    "The question we want to solve is 3.20 from Griffith's Introduction to Electrodynamics - see the example here: \n",
    "\n",
    "\n",
    "Two infinitely-long ground metal plates are connected by metal strips maintained by a constant potential, as shown in Fig. 3.20 (a thin layer of insulation at each corner prevents them from shorting out). Find the potential inside the resulting rectangular pipe. (See diagram at link https://peppyhare.github.io/r/notes/griffiths/ch3-3/)\n",
    "\n",
    "This problem requires us to solve the 2-D Laplace equation to calculate the potential V, and we will do it using the Method of Relaxation.\n",
    "\n"
   ]
  },
  {
   "cell_type": "markdown",
   "metadata": {},
   "source": [
    "Firstly, we want to decribe the physical dimensions of our problem. We are interested in the potential inside a square pipe, which extends out to infinity in the z direction. Our potential will therefore only be a function of x and y. Let's say we take 100 points, each a distance delta =1 apart in each dimension. These points could span 5 metres, or 5 centimetres, at the end of the day it doesn't matter much. One we have the number of points in each dimension, the mesh grid command will make a lenX x lenY grid of points.\n"
   ]
  },
  {
   "cell_type": "code",
   "execution_count": null,
   "metadata": {},
   "outputs": [],
   "source": [
    "import numpy as np\n",
    "import matplotlib.pyplot as plt\n",
    "\n",
    "# Set Dimension and delta\n",
    "lenX = 100\n",
    "lenY = 100 \n",
    "delta = 1 #delta should be an integer (you will see later)\n",
    "\n",
    "# Set meshgrid\n",
    "X, Y = np.meshgrid(np.arange(0, lenX), np.arange(0, lenY))"
   ]
  },
  {
   "cell_type": "markdown",
   "metadata": {},
   "source": [
    "\n",
    "\n",
    "The next thing we want to do is tell the code our boundary conditions. You all have been given unique ones. Here top and bottom refer to your y conditions, left and right the x ones. See Example 3.4 and Figure 3.20 in the textbook. I have chosen to set V_0 = 2.\n"
   ]
  },
  {
   "cell_type": "code",
   "execution_count": null,
   "metadata": {},
   "outputs": [],
   "source": [
    "Vtop = 0\n",
    "Vbottom = 0\n",
    "Vleft = 2\n",
    "Vright = 2"
   ]
  },
  {
   "cell_type": "markdown",
   "metadata": {},
   "source": [
    "--------------------\n",
    "We now need to make a guess for the potential inside the box. This value is just a starting estimate, and we will set our potential at all points inside our pipe to be equal to this number initially. The values on the edges will be set to the boundary conditions you supplied above.\n",
    "\n",
    "Set Vguess = 0.1. Run the cell."
   ]
  },
  {
   "cell_type": "code",
   "execution_count": null,
   "metadata": {},
   "outputs": [],
   "source": [
    "# Initial guess of interior grid\n",
    "Vguess = 0.1\n",
    "\n",
    "# Set array size and set the interior value with Vguess\n",
    "V = np.empty((lenX, lenY))\n",
    "V.fill(Vguess)\n",
    "\n",
    "# Set Boundary condition\n",
    "V[(lenY-1):, :] = Vtop\n",
    "V[:1, :] = Vbottom\n",
    "V[:, (lenX-1):] = Vright\n",
    "V[:, :1] = Vleft"
   ]
  },
  {
   "cell_type": "markdown",
   "metadata": {},
   "source": [
    "\n",
    "Now tell the code the maximum number of iterations you would like to run. The more you run the better your final answer will be, but the code will take longer to run. Let's try 100 iterations to begin.\n",
    "\n"
   ]
  },
  {
   "cell_type": "code",
   "execution_count": null,
   "metadata": {},
   "outputs": [],
   "source": [
    "# Set maximum iteration\n",
    "maxIter = 100"
   ]
  },
  {
   "cell_type": "markdown",
   "metadata": {},
   "source": [
    "\n",
    "Now the magic really happens! The \"method of relaxation\" when applied to the Laplace equation is a numerical technique to solve the equation iteratively by repeatedly updating the values at each grid point in a domain, gradually bringing them closer to the true solution by setting each point's value to the average of its neighboring points, essentially \"relaxing\" the initial guess towards the correct solution at the boundaries; this process is repeated until the solution converges to a stable state.\n",
    "\n",
    "The code below implements this in two dimensions."
   ]
  },
  {
   "cell_type": "code",
   "execution_count": null,
   "metadata": {
    "scrolled": true
   },
   "outputs": [],
   "source": [
    "# Iteration (We assume that the iteration is convergence in maxIter = 500)\n",
    "print(\"Please wait for a moment\")\n",
    "for iteration in range(0, maxIter):\n",
    "    for i in range(1, lenX-1, delta):\n",
    "        for j in range(1, lenY-1, delta):\n",
    "            V[i, j] = (1/4) * (V[i - 1][j] + V[i + 1][j] + V[i][j - 1] + V[i][j + 1])\n",
    "\n",
    "print(\"Iteration finished\")"
   ]
  },
  {
   "cell_type": "markdown",
   "metadata": {},
   "source": [
    "\n",
    "There we have it! You should now have a fully functional two-dimensional Laplace's equation solver! All that's left to do is to make a plot of our potential.\n"
   ]
  },
  {
   "cell_type": "code",
   "execution_count": null,
   "metadata": {},
   "outputs": [],
   "source": [
    "# Set colour interpolation and colour map.\n",
    "# You can try set it to 10, or 100 to see the difference\n",
    "# You can also try: colourMap = plt.cm.coolwarm\n",
    "colorinterpolation = 50\n",
    "colourMap = plt.cm.viridis\n",
    "\n",
    "\n",
    "# Make the plot\n",
    "plt.title(\"\")\n",
    "plt.contourf(X, Y, V, colorinterpolation, cmap=colourMap)\n",
    "\n",
    "\n",
    "plt.show()\n"
   ]
  },
  {
   "cell_type": "markdown",
   "metadata": {},
   "source": [
    "\n",
    "We can do a little bit better than that though. Add the following to your plot:\n",
    "\n",
    "Add a title  \n",
    "Add an x-axis label    \n",
    "Add a y-axis label   \n",
    "Include the colorbar and colorbar label  \n",
    "Add some code to save your plot as a .png or .jpeg.    \n",
    "\n",
    "\n",
    "You can add a new cell below this one by selcting Insert > add cell below, and then copy your previous plotting code and making the necessary edits. I have included a blank one for you."
   ]
  },
  {
   "cell_type": "code",
   "execution_count": null,
   "metadata": {
    "scrolled": true
   },
   "outputs": [],
   "source": []
  },
  {
   "cell_type": "markdown",
   "metadata": {},
   "source": [
    "\n",
    "\n",
    "One final fancy thing we can do is make a 3d surface plot. \n"
   ]
  },
  {
   "cell_type": "code",
   "execution_count": null,
   "metadata": {},
   "outputs": [],
   "source": [
    "ax = plt.axes(projection='3d')\n",
    "ax.plot_surface(X, Y, V, rstride= 1, cstride= 1, cmap='viridis', edgecolor='none');\n",
    "\n",
    "ax.set_xlabel(\"X\")\n",
    "ax.set_ylabel(\"Y\")\n",
    "ax.set_zlabel(\"Z\")\n",
    "#ax.savefig(\"out.png\")\n",
    "\n",
    "# Show the result in the plot window\n",
    "plt.show()"
   ]
  },
  {
   "cell_type": "markdown",
   "metadata": {},
   "source": [
    "If you are interested, have a go at changing your values of maxIter and Vguess and see what happens to your solution!\n"
   ]
  },
  {
   "cell_type": "markdown",
   "metadata": {},
   "source": [
    "# References\n",
    "\n",
    "\n",
    "I wrote a much more extensive version of this over 3 years ago and can't remember the references, but it was largely my own!"
   ]
  },
  {
   "cell_type": "code",
   "execution_count": null,
   "metadata": {},
   "outputs": [],
   "source": []
  }
 ],
 "metadata": {
  "kernelspec": {
   "display_name": "Python 3 (ipykernel)",
   "language": "python",
   "name": "python3"
  },
  "language_info": {
   "codemirror_mode": {
    "name": "ipython",
    "version": 3
   },
   "file_extension": ".py",
   "mimetype": "text/x-python",
   "name": "python",
   "nbconvert_exporter": "python",
   "pygments_lexer": "ipython3",
   "version": "3.12.4"
  }
 },
 "nbformat": 4,
 "nbformat_minor": 4
}
