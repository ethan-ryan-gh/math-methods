{
 "cells": [
  {
   "cell_type": "markdown",
   "id": "3c020958-63e4-42b5-95ed-83361eaae1d2",
   "metadata": {},
   "source": [
    "# Problem 15.6\n",
    "\n",
    "Every website I used threw an error or had a timeout. For 1 hour I was just spinning wheels, so I brought out the big guns. 5 minutes into a containerized python env and I gotter doneeeeeee. "
   ]
  },
  {
   "cell_type": "code",
   "execution_count": 1,
   "id": "93bcad80-df63-4a3f-b20f-23139f4a34a6",
   "metadata": {},
   "outputs": [
    {
     "name": "stdout",
     "output_type": "stream",
     "text": [
      "Raw: -8*a*b*sinh(x)**2 + 8*a*b*cosh(x)**2 - 8*a*sinh(x)**2 + 8*a*cosh(x)**2 + 8*b*sinh(x)**2 - 8*b*cosh(x)**2 + 8*sinh(x)**2 - 8*cosh(x)**2,\n",
      " Simplified: 8*a*b + 8*a - 8*b - 8\n"
     ]
    }
   ],
   "source": [
    "import sympy as sym\n",
    "from sympy import symbols, Matrix, I, sqrt, Abs, simplify, trigsimp, pprint\n",
    "\n",
    "# Define symbols\n",
    "x, a, b = symbols(\"x a b\", real=True) \n",
    "coshx = sym.cosh(x)\n",
    "sinhx = sym.sinh(x)\n",
    "y1 = x * coshx + sinhx\n",
    "y2 = x * sinhx + coshx\n",
    "y3 = (x + a) * sym.exp(x)\n",
    "y4 = (x + b) * sym.exp(-x)\n",
    "\n",
    "# Compute the Wronskian\n",
    "Wronskian_x = sym.matrices.dense.wronskian([y1, y2, y3, y4], x, method=\"bareiss\")\n",
    "print(f\"Raw: {Wronskian_x},\\n Simplified: {Wronskian_x.simplify()}\")"
   ]
  },
  {
   "cell_type": "markdown",
   "id": "2ab25fe3-f4ac-4c6d-bc41-d600ce010a4f",
   "metadata": {},
   "source": [
    "## Solution:\n",
    "\n",
    "Take all that set it equal to zero.\n",
    "We set equal to zero because any a, b in which W(x) = 0 is not lin ind.\n",
    "Move 8 to the RHS, cancel out 8's.\n",
    "Left with:\n",
    "ab + a - b = 1\n",
    "ab = 1 + b - a\n",
    "set:\n",
    "a = 1 + b - a\n",
    "b = 1 + b - a\n",
    "You'll get a = 1, b = 1, which is pretty obvious looking back.\n",
    "So if those conditions are true, the functions are lin dep.\n",
    "Any other number is fine!"
   ]
  },
  {
   "cell_type": "code",
   "execution_count": null,
   "id": "6081d313-b538-4ab4-983d-532a664c64a4",
   "metadata": {},
   "outputs": [],
   "source": []
  }
 ],
 "metadata": {
  "kernelspec": {
   "display_name": "Python 3 (ipykernel)",
   "language": "python",
   "name": "python3"
  },
  "language_info": {
   "codemirror_mode": {
    "name": "ipython",
    "version": 3
   },
   "file_extension": ".py",
   "mimetype": "text/x-python",
   "name": "python",
   "nbconvert_exporter": "python",
   "pygments_lexer": "ipython3",
   "version": "3.11.9"
  }
 },
 "nbformat": 4,
 "nbformat_minor": 5
}
