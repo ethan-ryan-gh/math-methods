{
 "cells": [
  {
   "cell_type": "markdown",
   "metadata": {},
   "source": [
    "# Partial Derivatives\n",
    "\n",
    "Until now, we've considered derivatives of functions that operate on a single variable. How do we take the derivatives of a function like the following?\n",
    "\n",
    "$$f(x,y) = x^2 + y^2$$\n",
    "We can take a derivative of the changes in the function with respect to either x or y. We call these derivatives with respect to one variable partial derivatives. Let's give this a try by taking the derivative of $f(x,y)$ with respect to x. We write this partial derivative as follows.\n",
    "\n",
    "$$\\frac{\\partial f(x,y)}{\\partial x} = \\frac{\\partial (x^2 + y^2)}{\\partial x}$$\n",
    "Just as ordinary derivatives give us a way to compute the rate of change of a function, partial derivatives give us a way to compute the rate of change of a function of many variables with respect to one of those variables.\n",
    "\n",
    "Since $f(x,y)$ is the sum of several simpler functions we need to take the partial derivative of each of these and sum the result. The first two parts are easy.\n",
    "\n",
    "$$\\frac{\\partial x^2}{\\partial x} = 2x$$\n",
    "Notice that we are following the usual rules of differentiation for any function of x here.\n",
    "\n",
    "Now we need to take the partial derivative of the last part of $f(x,y)$, which does not depend on x at all. In these care we get the following.\n",
    "\n",
    "$$\\frac{\\partial y^2}{\\partial x} = 0$$\n",
    "Now we can add up the parts to get the complete partail derivative of $f(x,y)$.\n",
    "\n",
    "$$\\frac{\\partial f(x,y)}{\\partial x} = 2x + 0 = 2x$$\n",
    "We can also take the partial derivative of $f(x,y)$ with respect to y. The process proceeds in the following manner.\n",
    "\n",
    "$$\\frac{\\partial f(x,y)}{\\partial y} = 0 + 2y = 2y$$\n",
    "\n",
    "\n",
    "We can use our symbolic math toolbox to help us evaluate partial derivatives:"
   ]
  },
  {
   "cell_type": "code",
   "execution_count": 3,
   "metadata": {},
   "outputs": [
    {
     "data": {
      "text/latex": [
       "$\\displaystyle 2 x^{2} + 3$"
      ],
      "text/plain": [
       "2*x**2 + 3"
      ]
     },
     "execution_count": 3,
     "metadata": {},
     "output_type": "execute_result"
    }
   ],
   "source": [
    "import sympy as sym\n",
    "\n",
    "x = sym.Symbol('x')\n",
    "f = 2*x**2+3\n",
    "f"
   ]
  },
  {
   "cell_type": "markdown",
   "metadata": {},
   "source": [
    "To evaluate f at a particular value of x, we can use `subs()`."
   ]
  },
  {
   "cell_type": "code",
   "execution_count": 4,
   "metadata": {},
   "outputs": [
    {
     "name": "stdout",
     "output_type": "stream",
     "text": [
      "2(2)^2 + 3 = 11\n"
     ]
    }
   ],
   "source": [
    "z = f.subs(x, 2)\n",
    "print('2(2)^2 + 3 =', z)"
   ]
  },
  {
   "cell_type": "markdown",
   "metadata": {},
   "source": [
    "To take the derivative of f with respect to x, we use `diff()`."
   ]
  },
  {
   "cell_type": "code",
   "execution_count": 5,
   "metadata": {},
   "outputs": [
    {
     "data": {
      "text/latex": [
       "$\\displaystyle 4 x$"
      ],
      "text/plain": [
       "4*x"
      ]
     },
     "execution_count": 5,
     "metadata": {},
     "output_type": "execute_result"
    }
   ],
   "source": [
    "dfdx = f.diff(x)\n",
    "dfdx"
   ]
  },
  {
   "cell_type": "markdown",
   "metadata": {},
   "source": [
    "Of course, we can now evaluate the derivative at a particular value of x."
   ]
  },
  {
   "cell_type": "code",
   "execution_count": 6,
   "metadata": {},
   "outputs": [
    {
     "name": "stdout",
     "output_type": "stream",
     "text": [
      "df/dx at x = 3 is 12\n"
     ]
    }
   ],
   "source": [
    "print('df/dx at x = 3 is', dfdx.subs(x, 3))"
   ]
  },
  {
   "cell_type": "markdown",
   "metadata": {},
   "source": [
    "We can make our functions more complicated.  Here's a function of two variables."
   ]
  },
  {
   "cell_type": "code",
   "execution_count": 7,
   "metadata": {},
   "outputs": [
    {
     "data": {
      "text/latex": [
       "$\\displaystyle 2 \\sin^{y^{2}}{\\left(x \\right)}$"
      ],
      "text/plain": [
       "2*sin(x)**(y**2)"
      ]
     },
     "execution_count": 7,
     "metadata": {},
     "output_type": "execute_result"
    }
   ],
   "source": [
    "y = sym.Symbol('y')\n",
    "g = 2*sym.sin(x)**y**2\n",
    "g"
   ]
  },
  {
   "cell_type": "markdown",
   "metadata": {},
   "source": [
    "Here's how you can use 'subs()' to subsitute values for multiple variables."
   ]
  },
  {
   "cell_type": "code",
   "execution_count": 8,
   "metadata": {},
   "outputs": [
    {
     "data": {
      "text/latex": [
       "$\\displaystyle 1.00273593133124$"
      ],
      "text/plain": [
       "1.00273593133124"
      ]
     },
     "execution_count": 8,
     "metadata": {},
     "output_type": "execute_result"
    }
   ],
   "source": [
    "z = g.subs({x:1, y:2})\n",
    "sym.N(z)"
   ]
  },
  {
   "cell_type": "markdown",
   "metadata": {},
   "source": [
    "Here's the x-derivative and y-derivative of g..."
   ]
  },
  {
   "cell_type": "code",
   "execution_count": 9,
   "metadata": {},
   "outputs": [
    {
     "data": {
      "text/latex": [
       "$\\displaystyle \\frac{2 y^{2} \\sin^{y^{2}}{\\left(x \\right)} \\cos{\\left(x \\right)}}{\\sin{\\left(x \\right)}}$"
      ],
      "text/plain": [
       "2*y**2*sin(x)**(y**2)*cos(x)/sin(x)"
      ]
     },
     "execution_count": 9,
     "metadata": {},
     "output_type": "execute_result"
    }
   ],
   "source": [
    "g.diff(x)\n"
   ]
  },
  {
   "cell_type": "code",
   "execution_count": 10,
   "metadata": {},
   "outputs": [
    {
     "data": {
      "text/latex": [
       "$\\displaystyle 4 y \\log{\\left(\\sin{\\left(x \\right)} \\right)} \\sin^{y^{2}}{\\left(x \\right)}$"
      ],
      "text/plain": [
       "4*y*log(sin(x))*sin(x)**(y**2)"
      ]
     },
     "execution_count": 10,
     "metadata": {},
     "output_type": "execute_result"
    }
   ],
   "source": [
    "g.diff(y)"
   ]
  },
  {
   "cell_type": "markdown",
   "metadata": {},
   "source": [
    "Create your own function with at least two variables, and calculate its first partial derivatives with respect to each variable:"
   ]
  },
  {
   "cell_type": "code",
   "execution_count": 11,
   "metadata": {},
   "outputs": [
    {
     "data": {
      "text/latex": [
       "$\\displaystyle \\frac{x^{2}}{y^{2}}$"
      ],
      "text/plain": [
       "x**2/y**2"
      ]
     },
     "execution_count": 11,
     "metadata": {},
     "output_type": "execute_result"
    }
   ],
   "source": [
    "y = sym.Symbol('y')\n",
    "x = sym.Symbol('x')\n",
    "func = (x**2)/(y**2)\n",
    "func"
   ]
  },
  {
   "cell_type": "code",
   "execution_count": 12,
   "metadata": {},
   "outputs": [
    {
     "data": {
      "text/latex": [
       "$\\displaystyle \\frac{2 x}{y^{2}}$"
      ],
      "text/plain": [
       "2*x/y**2"
      ]
     },
     "execution_count": 12,
     "metadata": {},
     "output_type": "execute_result"
    }
   ],
   "source": [
    "func.diff(x)"
   ]
  },
  {
   "cell_type": "code",
   "execution_count": 13,
   "metadata": {},
   "outputs": [
    {
     "data": {
      "text/latex": [
       "$\\displaystyle - \\frac{2 x^{2}}{y^{3}}$"
      ],
      "text/plain": [
       "-2*x**2/y**3"
      ]
     },
     "execution_count": 13,
     "metadata": {},
     "output_type": "execute_result"
    }
   ],
   "source": [
    "func.diff(y)"
   ]
  },
  {
   "cell_type": "markdown",
   "metadata": {},
   "source": [
    "# Multiple Integrals\n",
    "\n",
    "We can also perform symbolic integrals in Python:"
   ]
  },
  {
   "cell_type": "code",
   "execution_count": 14,
   "metadata": {},
   "outputs": [
    {
     "data": {
      "text/latex": [
       "$\\displaystyle \\frac{2 x^{3}}{3} + 3 x$"
      ],
      "text/plain": [
       "2*x**3/3 + 3*x"
      ]
     },
     "execution_count": 14,
     "metadata": {},
     "output_type": "execute_result"
    }
   ],
   "source": [
    "import sympy as sym\n",
    "\n",
    "x = sym.Symbol('x')\n",
    "f = 2*x**2+3\n",
    "intf = f.integrate(x)\n",
    "intf"
   ]
  },
  {
   "cell_type": "markdown",
   "metadata": {},
   "source": [
    "The above examples are indefinite integrals of f.  We can evaluate definite integrals using the same `integrate()` function.  We just\n",
    "need to pass the limits of integration..."
   ]
  },
  {
   "cell_type": "code",
   "execution_count": 15,
   "metadata": {},
   "outputs": [
    {
     "data": {
      "text/latex": [
       "$\\displaystyle 27$"
      ],
      "text/plain": [
       "27"
      ]
     },
     "execution_count": 15,
     "metadata": {},
     "output_type": "execute_result"
    }
   ],
   "source": [
    "intf = sym.integrate(f, (x, 0, 3))\n",
    "intf"
   ]
  },
  {
   "cell_type": "markdown",
   "metadata": {},
   "source": [
    "You can also used symbols for the integration limits."
   ]
  },
  {
   "cell_type": "code",
   "execution_count": 16,
   "metadata": {},
   "outputs": [
    {
     "data": {
      "text/latex": [
       "$\\displaystyle - \\frac{2 a^{3}}{3} - 3 a + \\frac{2 b^{3}}{3} + 3 b$"
      ],
      "text/plain": [
       "-2*a**3/3 - 3*a + 2*b**3/3 + 3*b"
      ]
     },
     "execution_count": 16,
     "metadata": {},
     "output_type": "execute_result"
    }
   ],
   "source": [
    "a = sym.Symbol('a')\n",
    "b = sym.Symbol('b')\n",
    "intf = f.integrate((x, a, b))\n",
    "intf"
   ]
  },
  {
   "cell_type": "markdown",
   "metadata": {},
   "source": [
    "And a final, more complicated example: "
   ]
  },
  {
   "cell_type": "code",
   "execution_count": 17,
   "metadata": {},
   "outputs": [
    {
     "data": {
      "text/latex": [
       "$\\displaystyle \\begin{cases} - \\frac{x \\cos{\\left(x y \\right)}}{y} + \\frac{\\sin{\\left(x y \\right)}}{y^{2}} & \\text{for}\\: y \\neq 0 \\\\0 & \\text{otherwise} \\end{cases}$"
      ],
      "text/plain": [
       "Piecewise((-x*cos(x*y)/y + sin(x*y)/y**2, Ne(y, 0)), (0, True))"
      ]
     },
     "execution_count": 17,
     "metadata": {},
     "output_type": "execute_result"
    }
   ],
   "source": [
    "y = sym.Symbol('y')\n",
    "g = x*sym.sin(x*y)\n",
    "\n",
    "#g.integrate(y)\n",
    "g.integrate(x)"
   ]
  },
  {
   "cell_type": "markdown",
   "metadata": {},
   "source": [
    "Like above, create your own function of two variables and find its integral with respect to each variable"
   ]
  },
  {
   "cell_type": "code",
   "execution_count": 18,
   "metadata": {},
   "outputs": [
    {
     "data": {
      "text/latex": [
       "$\\displaystyle \\frac{x^{2}}{y^{2}}$"
      ],
      "text/plain": [
       "x**2/y**2"
      ]
     },
     "execution_count": 18,
     "metadata": {},
     "output_type": "execute_result"
    }
   ],
   "source": [
    "y = sym.Symbol('y')\n",
    "x = sym.Symbol('x')\n",
    "func = (x**2)/(y**2)\n",
    "func"
   ]
  },
  {
   "cell_type": "code",
   "execution_count": 19,
   "metadata": {},
   "outputs": [
    {
     "data": {
      "text/latex": [
       "$\\displaystyle - \\frac{a^{3}}{3 y^{2}} + \\frac{b^{3}}{3 y^{2}}$"
      ],
      "text/plain": [
       "-a**3/(3*y**2) + b**3/(3*y**2)"
      ]
     },
     "execution_count": 19,
     "metadata": {},
     "output_type": "execute_result"
    }
   ],
   "source": [
    "a = sym.Symbol('a')\n",
    "b = sym.Symbol('b')\n",
    "intf = func.integrate((x, a, b))\n",
    "intf"
   ]
  },
  {
   "cell_type": "code",
   "execution_count": 20,
   "metadata": {},
   "outputs": [
    {
     "data": {
      "text/latex": [
       "$\\displaystyle - \\frac{x^{2}}{b} + \\frac{x^{2}}{a}$"
      ],
      "text/plain": [
       "-x**2/b + x**2/a"
      ]
     },
     "execution_count": 20,
     "metadata": {},
     "output_type": "execute_result"
    }
   ],
   "source": [
    "a = sym.Symbol('a')\n",
    "b = sym.Symbol('b')\n",
    "intf = func.integrate((y, a, b))\n",
    "intf"
   ]
  },
  {
   "cell_type": "markdown",
   "metadata": {},
   "source": [
    "We can also use python routines to perform numerical differentiation and integration. We will meet these later on in the semester!"
   ]
  },
  {
   "cell_type": "markdown",
   "metadata": {},
   "source": [
    "# References\n",
    "\n",
    "https://cmps-people.ok.ubc.ca/jbobowsk/Python/html/Jupyter%20Derivatives.html\n",
    "\n",
    "https://cmps-people.ok.ubc.ca/jbobowsk/Python/html/Jupyter%20Integrals.html\n"
   ]
  },
  {
   "cell_type": "markdown",
   "metadata": {},
   "source": [
    "# Research\n",
    "Let's go ahead and solve one of the most difficult problems scientists have encountered in nature. In thermodynamics, the relations between the partial derivates of a function PV=nRT, where we can have a function of n, the number of particles as e^(-a/VRT). Though nature follows laws and this specific law states that the multiplication of all 3 partial derivatives is equal to -1. Let's go ahead and see if we can figure it out computationally. "
   ]
  },
  {
   "cell_type": "code",
   "execution_count": 56,
   "metadata": {},
   "outputs": [
    {
     "data": {
      "text/latex": [
       "$\\displaystyle \\frac{R T e^{- \\frac{a}{R T V}}}{V}$"
      ],
      "text/plain": [
       "R*T*exp(-a/(R*T*V))/V"
      ]
     },
     "execution_count": 56,
     "metadata": {},
     "output_type": "execute_result"
    }
   ],
   "source": [
    "import sympy as sym\n",
    "from sympy import *\n",
    "\n",
    "P = sym.Symbol('P')\n",
    "V = sym.Symbol('V')\n",
    "R = sym.Symbol('R')\n",
    "T = sym.Symbol('T')\n",
    "a = sym.Symbol('a')\n",
    "func_P = (R*T/V) * sym.E**(-a/(V*R*T))\n",
    "func_V = ((R*T/(P*V)) * sym.E**(-a/(V*R*T))) - 1\n",
    "func_T = (P*V/R) * sym.E**(a/(V*R*T))\n",
    "func_P_diff = func_P.diff(V)\n",
    "func_V_diff = idiff(func_V, V, T)\n",
    "func_T_diff = func_T.diff(P)\n",
    "\n",
    "func_P \n",
    "# func_V\n",
    "# func_T"
   ]
  },
  {
   "cell_type": "code",
   "execution_count": 57,
   "metadata": {},
   "outputs": [
    {
     "data": {
      "text/latex": [
       "$\\displaystyle - \\frac{R T e^{- \\frac{a}{R T V}}}{V^{2}} + \\frac{a e^{- \\frac{a}{R T V}}}{V^{3}}$"
      ],
      "text/plain": [
       "-R*T*exp(-a/(R*T*V))/V**2 + a*exp(-a/(R*T*V))/V**3"
      ]
     },
     "execution_count": 57,
     "metadata": {},
     "output_type": "execute_result"
    }
   ],
   "source": [
    "func_P_diff"
   ]
  },
  {
   "cell_type": "code",
   "execution_count": 58,
   "metadata": {},
   "outputs": [
    {
     "data": {
      "text/latex": [
       "$\\displaystyle - \\frac{V^{2} \\left(R V + \\frac{a}{T}\\right) \\left(- \\frac{R T e^{- \\frac{a}{R T V}}}{V^{2}} + \\frac{a e^{- \\frac{a}{R T V}}}{V^{3}}\\right) e^{\\frac{a}{R T V}}}{R \\left(- R T V + a\\right)}$"
      ],
      "text/plain": [
       "-V**2*(R*V + a/T)*(-R*T*exp(-a/(R*T*V))/V**2 + a*exp(-a/(R*T*V))/V**3)*exp(a/(R*T*V))/(R*(-R*T*V + a))"
      ]
     },
     "execution_count": 58,
     "metadata": {},
     "output_type": "execute_result"
    }
   ],
   "source": [
    "sol = func_P_diff * func_T_diff * func_V_diff\n",
    "sol"
   ]
  },
  {
   "cell_type": "code",
   "execution_count": 59,
   "metadata": {},
   "outputs": [
    {
     "data": {
      "text/latex": [
       "$\\displaystyle \\frac{- R T V - a}{R T V}$"
      ],
      "text/plain": [
       "(-R*T*V - a)/(R*T*V)"
      ]
     },
     "execution_count": 59,
     "metadata": {},
     "output_type": "execute_result"
    }
   ],
   "source": [
    "cancel(sol)"
   ]
  },
  {
   "cell_type": "code",
   "execution_count": 60,
   "metadata": {},
   "outputs": [
    {
     "data": {
      "text/latex": [
       "$\\displaystyle -1 - \\frac{a}{R T V}$"
      ],
      "text/plain": [
       "-1 - a/(R*T*V)"
      ]
     },
     "execution_count": 60,
     "metadata": {},
     "output_type": "execute_result"
    }
   ],
   "source": [
    "simplify(cancel(sol))"
   ]
  },
  {
   "cell_type": "markdown",
   "metadata": {},
   "source": [
    "Welp...\n",
    "I know this isn't exactly what you wanted, but I did have to learn a bit about sympy to do this."
   ]
  }
 ],
 "metadata": {
  "kernelspec": {
   "display_name": "Python 3 (ipykernel)",
   "language": "python",
   "name": "python3"
  },
  "language_info": {
   "codemirror_mode": {
    "name": "ipython",
    "version": 3
   },
   "file_extension": ".py",
   "mimetype": "text/x-python",
   "name": "python",
   "nbconvert_exporter": "python",
   "pygments_lexer": "ipython3",
   "version": "3.11.9"
  }
 },
 "nbformat": 4,
 "nbformat_minor": 4
}
