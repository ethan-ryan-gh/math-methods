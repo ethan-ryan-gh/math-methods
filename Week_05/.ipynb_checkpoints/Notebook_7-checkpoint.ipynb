{
 "cells": [
  {
   "cell_type": "markdown",
   "metadata": {},
   "source": [
    "# Vector Algebra\n",
    "\n",
    "\n",
    "The best way to work with matrices and vectors in Python is through the numpy library. We will\n",
    "look at numpy in this tutorial. In Python, we use numpy arrays for vectors (and matrices). These are defined using the `.array`\n",
    "method in `numpy`.\n",
    "\n"
   ]
  },
  {
   "cell_type": "code",
   "execution_count": null,
   "metadata": {},
   "outputs": [],
   "source": [
    "import numpy as np\n",
    "\n",
    "x = np.array([1.1343, 6.2345, 35])\n",
    "print(x)\n"
   ]
  },
  {
   "cell_type": "markdown",
   "metadata": {},
   "source": [
    "To mulitply a vector by a scalar, we use the `*` command:"
   ]
  },
  {
   "cell_type": "code",
   "execution_count": null,
   "metadata": {},
   "outputs": [],
   "source": [
    "\n",
    "z = 7 * np.ones(3)\n",
    "print(z)"
   ]
  },
  {
   "cell_type": "markdown",
   "metadata": {},
   "source": [
    "To add vectors, we can use the `+` command:"
   ]
  },
  {
   "cell_type": "code",
   "execution_count": null,
   "metadata": {},
   "outputs": [],
   "source": [
    "a = np.array([1.5, 4, 3.2])\n",
    "b = np.array([2, 2.2, -1])\n",
    "c = a + b\n",
    "print(c)"
   ]
  },
  {
   "cell_type": "markdown",
   "metadata": {},
   "source": [
    "To divide vectors element-by-element, we use `np.divide`"
   ]
  },
  {
   "cell_type": "code",
   "execution_count": null,
   "metadata": {},
   "outputs": [],
   "source": [
    "arr1 = [2, 27, 2, 21, 23] \n",
    "arr2 = [2, 3, 4, 5, 6] \n",
    "print (\"arr1         : \", arr1) \n",
    "print (\"arr2         : \", arr2) \n",
    "  \n",
    "# output_array \n",
    "out = np.divide(arr1, arr2) \n",
    "print (\"\\nOutput array : \\n\", out) "
   ]
  },
  {
   "cell_type": "markdown",
   "metadata": {},
   "source": [
    "We can also conveniently perform dot and cross products: "
   ]
  },
  {
   "cell_type": "code",
   "execution_count": null,
   "metadata": {},
   "outputs": [],
   "source": [
    "a = np.array([-1, -1, -1])\n",
    "b = np.array([11, 22, 33])\n",
    "adotb = np.dot(a, b)\n",
    "print (adotb)\n"
   ]
  },
  {
   "cell_type": "code",
   "execution_count": null,
   "metadata": {},
   "outputs": [],
   "source": [
    "a = np.array([-1, -1, -1])\n",
    "b = np.array([11, 22, 33])\n",
    "acrossb = np.cross(a,b)\n",
    "print (acrossb)"
   ]
  },
  {
   "cell_type": "markdown",
   "metadata": {},
   "source": [
    "Use the above code to check that for a pair of vectors, which you can create, that the order you perform the dot product does not affect the final result, but the order in which you take the cross product does result in different vectors."
   ]
  },
  {
   "cell_type": "markdown",
   "metadata": {},
   "source": []
  },
  {
   "cell_type": "code",
   "execution_count": null,
   "metadata": {},
   "outputs": [],
   "source": []
  },
  {
   "cell_type": "markdown",
   "metadata": {},
   "source": [
    "# Vector Calculus\n",
    "\n",
    "Python doesn't have particularly convenient means for calculating div, grad, and curl, but here are some example pieces of code your may wish to use.\n",
    "\n",
    "\n",
    "\n",
    "Below is an example of the `np.gradient` function:\n",
    "\n",
    "\n"
   ]
  },
  {
   "cell_type": "code",
   "execution_count": null,
   "metadata": {},
   "outputs": [],
   "source": [
    "import numpy as np\n",
    "f = np.array([1, 2, 4, 7, 11, 16])\n",
    "np.gradient(f)\n"
   ]
  },
  {
   "cell_type": "markdown",
   "metadata": {},
   "source": [
    "You can use `sympy.curl()` to calculate the curl of a vector field.\n",
    "\n",
    "Example:\n",
    "\n",
    "Suppose F(x,y,z) = y2zi - xyj + z2k, then:\n",
    "\n",
    "y would be R[1], x is R[0] and z is R[2]\n",
    "the unit vectors i, j, k of the 3 axes, would be respectively R.x, R.y, R.z.\n",
    "The code to calculate the vector field curl is:"
   ]
  },
  {
   "cell_type": "code",
   "execution_count": null,
   "metadata": {},
   "outputs": [],
   "source": [
    "from sympy.physics.vector import ReferenceFrame\n",
    "from sympy.physics.vector import curl\n",
    "R = ReferenceFrame('R')\n",
    "\n",
    "F = R[1]**2 * R[2] * R.x - R[0]*R[1] * R.y + R[2]**2 * R.z\n",
    "\n",
    "G = curl(F, R)\n",
    "print(G)"
   ]
  },
  {
   "cell_type": "markdown",
   "metadata": {},
   "source": [
    "To calculate the curl of a vector function you can also use `numdifftools` for automatic numerical differentiation without a detour through symbolic differentiation. Numdifftools doesn't provide a curl() function, but it does compute the Jacobian matrix of a vector valued function of one or more variables, and this provides the derivatives of all components of a vector field with respect to all of the variables; this is all that's necessary for the calculation of the curl. This is quite a bit beyond what we need in terms of Python skills, but you can check out the code here: https://www.eg.bucknell.edu/~phys310/jupyter/numdiff.html"
   ]
  },
  {
   "cell_type": "markdown",
   "metadata": {},
   "source": [
    "# References\n",
    "\n",
    "https://cbrinton.net/ECE20875-2020-Fall/W9/numpy-demo.pdf\n",
    "\n",
    "\n",
    "https://stackoverflow.com/questions/30378676/calculate-curl-of-a-vector-field-in-python-and-plot-it-with-matplotlib"
   ]
  },
  {
   "cell_type": "code",
   "execution_count": null,
   "metadata": {},
   "outputs": [],
   "source": []
  }
 ],
 "metadata": {
  "kernelspec": {
   "display_name": "Python 3 (ipykernel)",
   "language": "python",
   "name": "python3"
  },
  "language_info": {
   "codemirror_mode": {
    "name": "ipython",
    "version": 3
   },
   "file_extension": ".py",
   "mimetype": "text/x-python",
   "name": "python",
   "nbconvert_exporter": "python",
   "pygments_lexer": "ipython3",
   "version": "3.12.4"
  }
 },
 "nbformat": 4,
 "nbformat_minor": 4
}
