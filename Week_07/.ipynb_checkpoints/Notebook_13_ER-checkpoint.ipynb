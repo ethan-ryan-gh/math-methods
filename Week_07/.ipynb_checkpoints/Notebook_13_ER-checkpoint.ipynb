{
 "cells": [
  {
   "cell_type": "markdown",
   "metadata": {},
   "source": [
    "# Eigenvalues and Eigenvectors in Python\n",
    "\n",
    "\n",
    "Though the methods we introduced so far look complicated, the actually calculation of the eigenvalues and eigenvectors in Python is fairly easy. The main built-in function in Python to solve the eigenvalue/eigenvector problem for a square array is the eig function in `numpy.linalg`. Let’s see how we can use it.\n"
   ]
  },
  {
   "cell_type": "code",
   "execution_count": 4,
   "metadata": {},
   "outputs": [
    {
     "name": "stdout",
     "output_type": "stream",
     "text": [
      "E-value: [-1.  4.]\n",
      "E-vector [[-0.89442719 -0.4472136 ]\n",
      " [ 0.4472136  -0.89442719]]\n"
     ]
    }
   ],
   "source": [
    "import numpy as np\n",
    "from numpy.linalg import eig\n",
    "\n",
    "\n",
    "a = np.array([[0, 2], \n",
    "              [2, 3]])\n",
    "w,v=eig(a)\n",
    "print('E-value:', w)\n",
    "print('E-vector', v)"
   ]
  },
  {
   "cell_type": "markdown",
   "metadata": {},
   "source": [
    " Compute the eigenvalues and eigenvectors for matrix 𝐴= ([[2, 2, 4], [1, 3, 5],[2, 3, 4]])"
   ]
  },
  {
   "cell_type": "code",
   "execution_count": 5,
   "metadata": {},
   "outputs": [
    {
     "name": "stdout",
     "output_type": "stream",
     "text": [
      "Eigenvalues: [ 8.80916362  0.92620912 -0.73537273], \n",
      " Eigenvectors: [[-0.52799324 -0.77557092 -0.36272811]\n",
      " [-0.604391    0.62277013 -0.7103262 ]\n",
      " [-0.59660259 -0.10318482  0.60321224]]\n"
     ]
    }
   ],
   "source": [
    "a = np.array([\n",
    "    [2, 2, 4],\n",
    "    [1, 3, 5],\n",
    "    [2, 3, 4]])\n",
    "\n",
    "val, vecs = eig(a)\n",
    "\n",
    "print(f\"Eigenvalues: {val}, \\n Eigenvectors: {vecs}\")"
   ]
  },
  {
   "cell_type": "markdown",
   "metadata": {},
   "source": [
    "# References\n",
    "\n",
    "https://pythonnumericalmethods.studentorg.berkeley.edu/notebooks/chapter15.04-Eigenvalues-and-Eigenvectors-in-Python.html\n",
    "\n"
   ]
  },
  {
   "cell_type": "markdown",
   "metadata": {},
   "source": [
    "# Research\n",
    "\n",
    "So another example besides quantum mechanics that uses eigenvalues and eigenvectors, which can be difficult to visualize would be dynamical systems like we see in our circuit courses. Circuits practically live by the law of V=IR where V is voltage, I is current, and R is resistance. Usually, R is constant along the specific path that a current flows. Current and voltage on the other hand, is rarely nice and is dependent on whether parts of the circuit are in series or parrallel. So, There are different currents associated with different voltages across different areas of the circuit with different resistances. This is getting complicated, which is exactly where eigenvalues come into place.\n",
    "\n",
    "So, assuming we have a circuit of 3 currents each with a coefficient of resistance greater than 0. Our mathematical system to solve for the eigenvalues, following IR = V, would be a square matrix of resistance coefficients A multiplied by the current vector 3x1 for 3 currents, is equal to our unknown eigenvalue-voltages V multiplied by our 3x1 current vector. Looks like this A(R) * I(vec) = V(eval) * I(vec), or when solving for eigenvalues: det(A-V(eval)*(Identity Matrix)) = 0.\n",
    "\n",
    "Once we solved for our eigenvalues, the voltages for each current loop, we solve for the eigenvectors to get the currents I_1, I_2, and I_3 for each value of voltage in the system."
   ]
  },
  {
   "cell_type": "code",
   "execution_count": 9,
   "metadata": {},
   "outputs": [
    {
     "name": "stdout",
     "output_type": "stream",
     "text": [
      "Eigenvalues (Voltage): 0.13115372414866716, \n",
      " Eigenvectors (I_1, I_2, I_3): [ 0.36758233  0.14905302 -0.39052151]\n",
      "Eigenvalues (Voltage): 0.20461080558539357, \n",
      " Eigenvectors (I_1, I_2, I_3): [ 0.06189744  0.08288953 -0.80662088]\n",
      "Eigenvalues (Voltage): 0.5142354702659392, \n",
      " Eigenvectors (I_1, I_2, I_3): [-0.92792884 -0.98534894 -0.44368424]\n"
     ]
    }
   ],
   "source": [
    "# Matrix needs to be square, so below is 3x3\n",
    "matrix = np.array([\n",
    "    [.1, .2, .001],\n",
    "    [.001, .5, .025],\n",
    "    [.3, .0001, .25]])\n",
    "\n",
    "vals, vecs = eig(matrix)\n",
    "\n",
    "# Remember negative current means it's flowing the other direction\n",
    "for i in range(len(vals)):\n",
    "    print(f\"Eigenvalues (Voltage): {vals[i]}, \\n Eigenvectors (I_1, I_2, I_3): {vecs[i]}\")"
   ]
  },
  {
   "cell_type": "code",
   "execution_count": null,
   "metadata": {},
   "outputs": [],
   "source": []
  }
 ],
 "metadata": {
  "kernelspec": {
   "display_name": "Python 3 (ipykernel)",
   "language": "python",
   "name": "python3"
  },
  "language_info": {
   "codemirror_mode": {
    "name": "ipython",
    "version": 3
   },
   "file_extension": ".py",
   "mimetype": "text/x-python",
   "name": "python",
   "nbconvert_exporter": "python",
   "pygments_lexer": "ipython3",
   "version": "3.11.9"
  }
 },
 "nbformat": 4,
 "nbformat_minor": 4
}
