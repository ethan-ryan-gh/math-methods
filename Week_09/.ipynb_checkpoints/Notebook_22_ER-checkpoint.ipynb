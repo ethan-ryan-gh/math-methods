{
 "cells": [
  {
   "cell_type": "markdown",
   "metadata": {},
   "source": [
    "# ODEs and Special Functions\n",
    "\n",
    "\n",
    "In our class on Wednesday we covered two topics - Eigenvalue methods for ODEs and Special Functions. This notebook brings both of these concepts together using the Harmonic Oscialltor as an example. This ODE can be solved by eigenvalue methods, and the solutions for its wavefunction (or eigenfunctions) are formed using Hermite Polynomials - one of the Special Functions covered in this course.\n",
    "\n",
    "The first code extract plots the Harmonic Oscialltor wavefunctions using the `numpy.polynomial.hermite` module to aid in calculating the polynomials. The second code extract plots the Hermite polynomials themselves."
   ]
  },
  {
   "cell_type": "code",
   "execution_count": null,
   "metadata": {},
   "outputs": [],
   "source": [
    "import numpy as np\n",
    "import matplotlib.pyplot as plt\n",
    "import numpy.polynomial.hermite as Herm\n",
    "import math\n",
    "\n",
    "# Choose simple units\n",
    "m = 1. \n",
    "w = 1. \n",
    "hbar = 1. \n",
    "\n",
    "# Discretized space\n",
    "x_lim = 5\n",
    "dx = 0.01\n",
    "x = np.arange(-x_lim, x_lim, dx)\n",
    "\n",
    "def hermite(x, n):\n",
    "    xi = np.sqrt(m*w/hbar)*x\n",
    "    herm_coeffs = np.zeros(n+1)\n",
    "    herm_coeffs[n] = 1\n",
    "    return Herm.hermval(xi, herm_coeffs)\n",
    "\n",
    "def harmonic_oscillator_wavefunction(x, n):\n",
    "    xi = np.sqrt(m*w/hbar)*x\n",
    "    normalization_factor = 1 / np.sqrt(2**n * math.factorial(n)) * (m*w/(np.pi*hbar))**(1/4)\n",
    "    return normalization_factor * np.exp(-xi**2 / 2) * hermite(x, n)\n",
    "\n",
    "# Plot the first few wavefunctions\n",
    "plt.figure()\n",
    "for n in range(4):\n",
    "    psi = harmonic_oscillator_wavefunction(x, n)\n",
    "    plt.plot(x, psi, label=f\"n = {n}\")\n",
    "\n",
    "plt.xlabel(\"x\")\n",
    "plt.ylabel(\"ψ(x)\")\n",
    "plt.title(\"Harmonic Oscillator Wavefunctions\")\n",
    "plt.legend()\n",
    "plt.show()\n"
   ]
  },
  {
   "cell_type": "code",
   "execution_count": null,
   "metadata": {},
   "outputs": [],
   "source": [
    "import numpy as np\n",
    "import matplotlib.pyplot as plt\n",
    "from scipy.special import hermite\n",
    "\n",
    "# Define range and degree\n",
    "x = np.linspace(-2, 2, 100)\n",
    "n = 1  # Degree of Hermite polynomial\n",
    "\n",
    "\n",
    "for n in range(5):\n",
    "# Calculate Hermite polynomial\n",
    "    H_n = hermite(n)  \n",
    "    y = H_n(x) \n",
    "    plt.plot(x, y, label=f\"n = {n}\")\n",
    "\n",
    "# Plotting \n",
    "#plt.plot(x, y, label=f\"Hermite polynomial, degree {n}\")\n",
    "plt.xlabel(\"x\")\n",
    "plt.ylabel(\"H_n(x)\")\n",
    "plt.title(\"Hermite Polynomial Plot\")\n",
    "plt.legend()\n",
    "plt.show()"
   ]
  },
  {
   "cell_type": "markdown",
   "metadata": {},
   "source": [
    "Using the code extract above, plot the next five Hermite polynomials in the empty cell below.\n",
    "\n",
    "\n",
    "\n",
    "\n",
    "\n"
   ]
  },
  {
   "cell_type": "code",
   "execution_count": null,
   "metadata": {},
   "outputs": [],
   "source": []
  },
  {
   "cell_type": "markdown",
   "metadata": {},
   "source": [
    "# References\n",
    "\n",
    "\n",
    "https://flothesof.github.io/harmonic-oscillator-three-methods-solution.html\n",
    "\n",
    "Google AI search \"python hermite polynomials harmonic oscillator eigenvalues\"\n"
   ]
  }
 ],
 "metadata": {
  "kernelspec": {
   "display_name": "Python 3 (ipykernel)",
   "language": "python",
   "name": "python3"
  },
  "language_info": {
   "codemirror_mode": {
    "name": "ipython",
    "version": 3
   },
   "file_extension": ".py",
   "mimetype": "text/x-python",
   "name": "python",
   "nbconvert_exporter": "python",
   "pygments_lexer": "ipython3",
   "version": "3.12.4"
  }
 },
 "nbformat": 4,
 "nbformat_minor": 4
}
