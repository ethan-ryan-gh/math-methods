{
 "cells": [
  {
   "cell_type": "markdown",
   "metadata": {},
   "source": [
    "# Matrices and Vector Spaces\n",
    "\n",
    "\n",
    "In this section we look at matrix algebra and some of its common properties. A matrix a is two-dimensional array of numbers. When we do computations with matrices using NumPy, we will be using arrays just as we did before. Let’s write down some of examples of matrices and give them names.\n",
    "\n",
    "\n",
    "\n",
    "\n",
    "\n"
   ]
  },
  {
   "cell_type": "code",
   "execution_count": 1,
   "metadata": {},
   "outputs": [
    {
     "name": "stdout",
     "output_type": "stream",
     "text": [
      "[[2]\n",
      " [6]]\n"
     ]
    }
   ],
   "source": [
    "import numpy as np\n",
    "A = np.array([[1, 3],[2,1]])\n",
    "B = np.array([[3, 0, 4],[-1, -2, 1]])\n",
    "C = np.array([[-2, 1],[4, 1]])\n",
    "D = np.array([[2],[6]])\n",
    "print(D)"
   ]
  },
  {
   "cell_type": "markdown",
   "metadata": {},
   "source": [
    "It will be useful for us to access the dimensions of our arrays. When the array is created, this information gets stored as part of the array object and can be accessed with a method called 𝚜𝚑𝚊𝚙𝚎\n",
    ". If 𝙱\n",
    " is an array, the object 𝙱.𝚜𝚑𝚊𝚙𝚎\n",
    " is itself an array that has two entries. The first (with index 0) is the number of rows, and the second (with index 1) is the number of columns."
   ]
  },
  {
   "cell_type": "code",
   "execution_count": 2,
   "metadata": {},
   "outputs": [
    {
     "name": "stdout",
     "output_type": "stream",
     "text": [
      "Array B has 2 rows.\n",
      "Array B has 3 columns.\n"
     ]
    }
   ],
   "source": [
    "print(\"Array B has\",B.shape[0],\"rows.\")\n",
    "print(\"Array B has\",B.shape[1],\"columns.\")  "
   ]
  },
  {
   "cell_type": "markdown",
   "metadata": {},
   "source": [
    "# Matrix Algebra\n",
    "\n",
    "There are three main matrix algerba operations we would like to look at:\n",
    "\n",
    "1) The multiplication of a number and a matrix:\n",
    "\n",
    "2) The sum of two matrices of the same shape:\n",
    "\n",
    "3) The multiplication of two matrices:\n",
    "\n",
    "\n",
    "These matrix operations are all built into NumPy, but we have to use the symbol @ instead of * for matrix multiplication."
   ]
  },
  {
   "cell_type": "code",
   "execution_count": 3,
   "metadata": {},
   "outputs": [
    {
     "name": "stdout",
     "output_type": "stream",
     "text": [
      "[[3 9]\n",
      " [6 3]] \n",
      "\n",
      "[[-1  4]\n",
      " [ 6  2]] \n",
      "\n",
      "[[ 0 -6  7]\n",
      " [ 5 -2  9]]\n"
     ]
    }
   ],
   "source": [
    "print(3*A,'\\n')\n",
    "print(A+C,'\\n')\n",
    "print(A@B)"
   ]
  },
  {
   "cell_type": "markdown",
   "metadata": {},
   "source": [
    "# Other Matrix Operations\n",
    "\n",
    "Another common idea that we will find useful is that of the matrix transpose. The transpose of a matrix 𝐴\n",
    "is another matrix, 𝐴𝑇, defined so that its columns are the rows of 𝐴. To build 𝐴𝑇, we simple swap the row index with the column index."
   ]
  },
  {
   "cell_type": "code",
   "execution_count": 4,
   "metadata": {},
   "outputs": [
    {
     "name": "stdout",
     "output_type": "stream",
     "text": [
      "[[5 4 0]\n",
      " [1 8 3]\n",
      " [6 7 2]]\n",
      "\n",
      "\n",
      "[[5 1 6]\n",
      " [4 8 7]\n",
      " [0 3 2]]\n"
     ]
    }
   ],
   "source": [
    "A = np.array([[5, 4, 0],[1, 8, 3],[6, 7, 2]])\n",
    "\n",
    "## Note that the tranpose method must be called with (), the same as a function with no arguments.\n",
    "A_T = A.transpose()\n",
    "\n",
    "print(A)\n",
    "print('\\n')\n",
    "print(A_T)"
   ]
  },
  {
   "cell_type": "markdown",
   "metadata": {},
   "source": [
    "We can also calculate the determinant of a matrix using NumPy with the `np.linalg.det()` command:"
   ]
  },
  {
   "cell_type": "code",
   "execution_count": 5,
   "metadata": {},
   "outputs": [
    {
     "name": "stdout",
     "output_type": "stream",
     "text": [
      "Numpy Matrix is:\n",
      "[[50 29]\n",
      " [30 44]]\n",
      "\n",
      "Determinant of given 2X2 matrix:\n",
      "1330\n"
     ]
    }
   ],
   "source": [
    "# creating a 2X2 Numpy matrix \n",
    "n_array = np.array([[50, 29], [30, 44]]) \n",
    "  \n",
    "# Displaying the Matrix \n",
    "print(\"Numpy Matrix is:\") \n",
    "print(n_array) \n",
    "  \n",
    "# calculating the determinant of matrix \n",
    "det = np.linalg.det(n_array) \n",
    "  \n",
    "print(\"\\nDeterminant of given 2X2 matrix:\") \n",
    "print(int(det))"
   ]
  },
  {
   "cell_type": "markdown",
   "metadata": {},
   "source": [
    "A similar command exists for the inverse:"
   ]
  },
  {
   "cell_type": "code",
   "execution_count": 6,
   "metadata": {},
   "outputs": [
    {
     "name": "stdout",
     "output_type": "stream",
     "text": [
      "[[1 2]\n",
      " [3 4]]\n",
      "[[-2.   1. ]\n",
      " [ 1.5 -0.5]]\n"
     ]
    }
   ],
   "source": [
    "x = np.array([[1,2],[3,4]]) \n",
    "y = np.linalg.inv(x) \n",
    "print(x) \n",
    "print(y) "
   ]
  },
  {
   "cell_type": "markdown",
   "metadata": {},
   "source": [
    "Checking that multiplying by the inverse gives the identity matrix:"
   ]
  },
  {
   "cell_type": "code",
   "execution_count": 7,
   "metadata": {},
   "outputs": [
    {
     "name": "stdout",
     "output_type": "stream",
     "text": [
      "[[1.0000000e+00 0.0000000e+00]\n",
      " [8.8817842e-16 1.0000000e+00]]\n"
     ]
    }
   ],
   "source": [
    "print(x@y)"
   ]
  },
  {
   "cell_type": "markdown",
   "metadata": {},
   "source": [
    "Which gives the expected result. To use the identity matrix in Python we use the command `identity` or `eye` - they produce the same result."
   ]
  },
  {
   "cell_type": "code",
   "execution_count": 8,
   "metadata": {},
   "outputs": [
    {
     "name": "stdout",
     "output_type": "stream",
     "text": [
      "[[1. 0. 0. 0.]\n",
      " [0. 1. 0. 0.]\n",
      " [0. 0. 1. 0.]\n",
      " [0. 0. 0. 1.]]\n",
      "[[1. 0. 0. 0. 0.]\n",
      " [0. 1. 0. 0. 0.]\n",
      " [0. 0. 1. 0. 0.]\n",
      " [0. 0. 0. 1. 0.]\n",
      " [0. 0. 0. 0. 1.]]\n"
     ]
    }
   ],
   "source": [
    "arr1 = np.eye(4)\n",
    "print(arr1)\n",
    "\n",
    "arr2 = np.identity(5)\n",
    "print(arr2)"
   ]
  },
  {
   "cell_type": "markdown",
   "metadata": {},
   "source": [
    "To final useful commands are for calculating the complex conjugate of a matrix `numpy.conjugate()`, and the Hermitian conjugate or adjoint `numpy.matrix.H()`"
   ]
  },
  {
   "cell_type": "markdown",
   "metadata": {},
   "source": [
    "# Challenge\n",
    "\n",
    "Create your own 5x5 matrix that includes some elements which are complex numbers. Verify that the Hermitian conjugate is equal to the transpose of the complex conjugate."
   ]
  },
  {
   "cell_type": "code",
   "execution_count": 52,
   "metadata": {},
   "outputs": [
    {
     "name": "stdout",
     "output_type": "stream",
     "text": [
      "[[ 1.-0.j  6.+3.j 11.-0.j 16.-0.j]\n",
      " [ 2.-1.j  7.-0.j 12.-5.j 17.+7.j]\n",
      " [ 3.-0.j  8.-0.j 13.-0.j 18.-0.j]\n",
      " [ 4.+2.j  9.-4.j 14.-0.j 19.-8.j]\n",
      " [ 5.-0.j 10.-0.j 15.+6.j 20.-0.j]] \n",
      " \n",
      " [[ 1.-0.j  6.+3.j 11.-0.j 16.-0.j]\n",
      " [ 2.-1.j  7.-0.j 12.-5.j 17.+7.j]\n",
      " [ 3.-0.j  8.-0.j 13.-0.j 18.-0.j]\n",
      " [ 4.+2.j  9.-4.j 14.-0.j 19.-8.j]\n",
      " [ 5.-0.j 10.-0.j 15.+6.j 20.-0.j]]\n"
     ]
    }
   ],
   "source": [
    "import numpy as np\n",
    "\n",
    "matrix = np.array([\n",
    "    [1, 2+1j, 3, 4-2j, 5],\n",
    "    [6-3j, 7, 8, 9+4j, 10],\n",
    "    [11, 12+5j, 13, 14, 15-6j],\n",
    "    [16, 17-7j, 18, 19+8j, 20],\n",
    "])\n",
    "\n",
    "\n",
    "matrix_conj_T = matrix.conjugate().transpose()\n",
    "\n",
    "hermitian = np.matrix.getH(matrix) # oh my god this took forever to get, kept throwing errors.\n",
    "\n",
    "print(matrix_conj_T, \"\\n \\n\", hermitian)"
   ]
  },
  {
   "cell_type": "markdown",
   "metadata": {},
   "source": [
    "# References\n",
    "\n",
    "https://bvanderlei.github.io/jupyter-guide-to-linear-algebra/Matrix_Algebra.html\n"
   ]
  },
  {
   "cell_type": "markdown",
   "metadata": {},
   "source": [
    "# Research\n",
    "\n",
    "Solving for spin in a general direction is something that we had to do for Quantum Mechanics and beause for whatever reason I seem to like pain, I will go ahead and try to do it using sympy. The general idea is that we have a matrix operator S which we will use to solve for the eigenvalues of the |+> ket and |-> ket to find out to try and get an equation for spin in a general direction. Once the eigenvalues are solved for I need to solve for the eigenvectors which will give the equation of |+>n = a|+> + b|-> and |->n = a|+> - b|-> where a and b are the values from the eigenvector. That was confusing, quantum is confusing. Life is pain.\n",
    "\n",
    "So, I went ahead and did this below and got something close to the correct answer minus some trig substitutions to making things look prettier. You can seem me just throwing in .applyfunc(trigsimp) to try and mitigate this but it's not working. I need to delve further into the code to find out if it's possible or have to simplify manually, which is no fun. Also, something to keep in mind is basically being able to throw away the e^(i*phi) because it's physically just a phase change which is not a concern. \n",
    "\n",
    "In conclusion, eigenvalues and eigenvectors are a fundamental part of quantum mechanics where everything is multidimensional and systems of multidimensional things that are rarely linearly dependent."
   ]
  },
  {
   "cell_type": "code",
   "execution_count": 12,
   "metadata": {},
   "outputs": [
    {
     "name": "stdout",
     "output_type": "stream",
     "text": [
      "Our Operator:\n",
      "⎡                  -ⅈ⋅y       ⎤\n",
      "⎢  h⋅cos(x)     h⋅ℯ    ⋅sin(x)⎥\n",
      "⎢  ────────     ──────────────⎥\n",
      "⎢     2               2       ⎥\n",
      "⎢                             ⎥\n",
      "⎢   ⅈ⋅y                       ⎥\n",
      "⎢h⋅ℯ   ⋅sin(x)    -h⋅cos(x)   ⎥\n",
      "⎢─────────────    ──────────  ⎥\n",
      "⎣      2              2       ⎦\n",
      "\n",
      "\n",
      "Operator Eigenvalues:\n",
      "⎧-h      h   ⎫\n",
      "⎨───: 1, ─: 1⎬\n",
      "⎩ 2      2   ⎭\n",
      "\n",
      "\n",
      "Eigenvalue: -h/2\n",
      "Normalized Eigenvector:\n",
      "⎡            -ⅈ⋅y               ⎤\n",
      "⎢       -√2⋅ℯ    ⋅sin(x)        ⎥\n",
      "⎢───────────────────────────────⎥\n",
      "⎢                   ____________⎥\n",
      "⎢                  ╱     1      ⎥\n",
      "⎢2⋅(cos(x) + 1)⋅  ╱  ────────── ⎥\n",
      "⎢               ╲╱   cos(x) + 1 ⎥\n",
      "⎢                               ⎥\n",
      "⎢              √2               ⎥\n",
      "⎢      ──────────────────       ⎥\n",
      "⎢            ____________       ⎥\n",
      "⎢           ╱     1             ⎥\n",
      "⎢      2⋅  ╱  ──────────        ⎥\n",
      "⎣        ╲╱   cos(x) + 1        ⎦\n",
      "\n",
      "\n",
      "Eigenvalue: h/2\n",
      "Normalized Eigenvector:\n",
      "⎡            -ⅈ⋅y               ⎤\n",
      "⎢       -√2⋅ℯ    ⋅sin(x)        ⎥\n",
      "⎢───────────────────────────────⎥\n",
      "⎢      ____________             ⎥\n",
      "⎢     ╱    -1                   ⎥\n",
      "⎢2⋅  ╱  ────────── ⋅(cos(x) - 1)⎥\n",
      "⎢  ╲╱   cos(x) - 1              ⎥\n",
      "⎢                               ⎥\n",
      "⎢              √2               ⎥\n",
      "⎢      ──────────────────       ⎥\n",
      "⎢            ____________       ⎥\n",
      "⎢           ╱    -1             ⎥\n",
      "⎢      2⋅  ╱  ──────────        ⎥\n",
      "⎣        ╲╱   cos(x) - 1        ⎦\n",
      "\n",
      "\n"
     ]
    }
   ],
   "source": [
    "import sympy as sym\n",
    "from sympy import symbols, Matrix, I, sqrt, Abs, simplify, trigsimp, pprint\n",
    "\n",
    "# Define symbols\n",
    "x, y, h = symbols(\"x y h\", real=True) \n",
    "\n",
    "# Create the 2x2 matrix operator\n",
    "S_n_operator = (h/2) * Matrix([\n",
    "    [sym.cos(x), sym.sin(x) * sym.exp(-I * y)],\n",
    "    [sym.sin(x) * sym.exp(I * y), -sym.cos(x)]\n",
    "])\n",
    "\n",
    "# Pretty print the operator\n",
    "print(\"Our Operator:\")\n",
    "pprint(S_n_operator)\n",
    "print(\"\\n\")\n",
    "\n",
    "# Solve for eigenvalues of the operator\n",
    "eigenvalues = S_n_operator.eigenvals()\n",
    "\n",
    "# Pretty print the eigenvalues\n",
    "print(\"Operator Eigenvalues:\")\n",
    "pprint(eigenvalues)\n",
    "print(\"\\n\")\n",
    "\n",
    "# Solve for eigenvectors\n",
    "eigenvectors = S_n_operator.eigenvects()\n",
    "# orthogonality = eigenvectors[0] * eigenvectors[1]\n",
    "\n",
    "# Function to normalize a vector and simplify the result\n",
    "def normalize(vec):\n",
    "    norm = sqrt(sum([Abs(element)**2 for element in vec]))\n",
    "    normalized_vec = vec / norm\n",
    "    # Apply simplify and trigsimp for simplification\n",
    "    return normalized_vec.applyfunc(trigsimp).applyfunc(simplify)\n",
    "\n",
    "# Loop over each eigenvalue and its corresponding eigenvectors\n",
    "for eigenvalue_info in eigenvectors:\n",
    "    eigenvalue = eigenvalue_info[0]\n",
    "    multiplicity = eigenvalue_info[1]\n",
    "    eigenvector_list = eigenvalue_info[2]\n",
    "    \n",
    "    # For each eigenvector associated with this eigenvalue\n",
    "    for vec in eigenvector_list:\n",
    "        normalized_vec = normalize(vec).applyfunc(trigsimp)\n",
    "        print(f\"Eigenvalue: {eigenvalue}\")\n",
    "        print(\"Normalized Eigenvector:\")\n",
    "        pprint(normalized_vec.applyfunc(trigsimp))\n",
    "        print(\"\\n\")\n"
   ]
  },
  {
   "cell_type": "code",
   "execution_count": null,
   "metadata": {},
   "outputs": [],
   "source": []
  }
 ],
 "metadata": {
  "kernelspec": {
   "display_name": "Python 3 (ipykernel)",
   "language": "python",
   "name": "python3"
  },
  "language_info": {
   "codemirror_mode": {
    "name": "ipython",
    "version": 3
   },
   "file_extension": ".py",
   "mimetype": "text/x-python",
   "name": "python",
   "nbconvert_exporter": "python",
   "pygments_lexer": "ipython3",
   "version": "3.11.9"
  }
 },
 "nbformat": 4,
 "nbformat_minor": 4
}
