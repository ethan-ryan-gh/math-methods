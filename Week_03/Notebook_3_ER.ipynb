{
 "cells": [
  {
   "cell_type": "markdown",
   "metadata": {},
   "source": [
    "# Series with Python\n",
    "\n",
    "\n",
    "\n",
    "In our first problem in class, we had the tedious task of summing up the natural numbers from 1 to 50 by hand. Thankfully, python can make life a little easier for us! The code below contains a function which allows us to sum the natural numbers from 1 to whichever number (n) we choose:"
   ]
  },
  {
   "cell_type": "code",
   "execution_count": 1,
   "metadata": {},
   "outputs": [],
   "source": [
    "def natural_series(n):\n",
    "    my_sum = 0\n",
    "    i=0\n",
    "    while i <= n:\n",
    "        my_sum = my_sum + i\n",
    "        #print(my_sum) uncomment this line to see the value of the sum after every addition\n",
    "        i+=1\n",
    "    return my_sum"
   ]
  },
  {
   "cell_type": "markdown",
   "metadata": {},
   "source": [
    "Let's try using this function to sum the integers from 1 to 10, and 1 to 100:"
   ]
  },
  {
   "cell_type": "code",
   "execution_count": 2,
   "metadata": {},
   "outputs": [
    {
     "data": {
      "text/plain": [
       "55"
      ]
     },
     "execution_count": 2,
     "metadata": {},
     "output_type": "execute_result"
    }
   ],
   "source": [
    "natural_series(10)"
   ]
  },
  {
   "cell_type": "code",
   "execution_count": 3,
   "metadata": {},
   "outputs": [
    {
     "data": {
      "text/plain": [
       "5050"
      ]
     },
     "execution_count": 3,
     "metadata": {},
     "output_type": "execute_result"
    }
   ],
   "source": [
    "natural_series(100)"
   ]
  },
  {
   "cell_type": "markdown",
   "metadata": {},
   "source": [
    "Use this function to calculate the sum of the natural numbers up until 1,000,000. The code cell below is blank for you to use:"
   ]
  },
  {
   "cell_type": "code",
   "execution_count": 17,
   "metadata": {},
   "outputs": [
    {
     "data": {
      "text/plain": [
       "1000405"
      ]
     },
     "execution_count": 17,
     "metadata": {},
     "output_type": "execute_result"
    }
   ],
   "source": [
    "natural_series(1414)"
   ]
  },
  {
   "cell_type": "markdown",
   "metadata": {},
   "source": [
    "That was pretty fast! The function above that sums our series relies on a `while` loop. This is a piece of code that exectues over and over again if a certain condition is met (the thing following the `if`). We strt from i=0, and every time we pass through the loop i increases by 1. As long as i remains less than n, our code will keep running, we will keep passing through the loop, sum, the running total of the sum of our series will increase by thevalue of i, and then i will increase by 1. This `while` loop could be modified for series other than the natural numbers: one the line where we say `my_sum = my_sum +i`, we could replace i with the nth term of our series. This is pretty straight forward for a series of real positive numbers, but can get a little more complicated if we have an alternating series where the sign of each term changes. "
   ]
  },
  {
   "cell_type": "markdown",
   "metadata": {},
   "source": [
    "However, `while` loops are not necessarily the most efficient, and we now know other ways to calculate the sum of the natural numbers. Using the formula from our textbook, the sum of the natural numbers uo to n is given as `n*(n+1)/2`, so let's write a new function that uses this formula:"
   ]
  },
  {
   "cell_type": "code",
   "execution_count": 18,
   "metadata": {},
   "outputs": [],
   "source": [
    "def natural_series_2(n):\n",
    "    my_sum = n*(n+1)/2\n",
    "    return my_sum"
   ]
  },
  {
   "cell_type": "code",
   "execution_count": 19,
   "metadata": {},
   "outputs": [
    {
     "data": {
      "text/plain": [
       "55.0"
      ]
     },
     "execution_count": 19,
     "metadata": {},
     "output_type": "execute_result"
    }
   ],
   "source": [
    "natural_series_2(10)"
   ]
  },
  {
   "cell_type": "markdown",
   "metadata": {},
   "source": [
    "Does this agree with your answers above? Use this new function to check your sum for natural numbers up to 1000000. Do you think the first or second code is more efficient, and why? Explain briefly below. I have left two empty cells for code and writing, but you can add more!"
   ]
  },
  {
   "cell_type": "markdown",
   "metadata": {},
   "source": [
    "Yes it does!"
   ]
  },
  {
   "cell_type": "code",
   "execution_count": 20,
   "metadata": {},
   "outputs": [
    {
     "data": {
      "text/plain": [
       "1000405.0"
      ]
     },
     "execution_count": 20,
     "metadata": {},
     "output_type": "execute_result"
    }
   ],
   "source": [
    "natural_series_2(1414)"
   ]
  },
  {
   "cell_type": "markdown",
   "metadata": {},
   "source": [
    "The code below will calculate the sum of the alternating series 1 - (1/3) + (1/5) - (1/7) +... (1/ (2*n -1)):"
   ]
  },
  {
   "cell_type": "code",
   "execution_count": 21,
   "metadata": {},
   "outputs": [],
   "source": [
    "def alternating_series(n):\n",
    "    my_sum = 1\n",
    "    i=1\n",
    "    while i <= n:\n",
    "        my_sum = my_sum + (-1)**(i) * 1.0/(2*i +1)\n",
    "        print(my_sum) #uncomment this line to see the value of the sum after every addition\n",
    "        i+=1\n",
    "    return my_sum\n"
   ]
  },
  {
   "cell_type": "code",
   "execution_count": 22,
   "metadata": {},
   "outputs": [
    {
     "name": "stdout",
     "output_type": "stream",
     "text": [
      "0.6666666666666667\n",
      "0.8666666666666667\n",
      "0.7238095238095239\n",
      "0.8349206349206351\n",
      "0.7440115440115441\n"
     ]
    },
    {
     "data": {
      "text/plain": [
       "0.7440115440115441"
      ]
     },
     "execution_count": 22,
     "metadata": {},
     "output_type": "execute_result"
    }
   ],
   "source": [
    "alternating_series(5)"
   ]
  },
  {
   "cell_type": "markdown",
   "metadata": {},
   "source": [
    "# Limits\n",
    "\n",
    "\n",
    "\n",
    "One other very convenient thing about python is that it can handle symbolic calculations - ie ones which don't use any actual numbers. This can be really convenient for us when we want to calculate the limit of a function.  If we want to find the limit of a function `f(x)` as `x` tends to `a` we can use `sympy.limit`. The code below find the limit of `sin(x)/x` as `x` tends to 0."
   ]
  },
  {
   "cell_type": "code",
   "execution_count": null,
   "metadata": {},
   "outputs": [],
   "source": [
    "   \n",
    "# import sympy \n",
    "from sympy import *\n",
    " \n",
    "x = symbols('x')\n",
    "expr = sin(x)/x;\n",
    "   \n",
    "print(\"Expression : {}\".format(expr)) \n",
    "     \n",
    "# Use sympy.limit() method \n",
    "limit_expr = limit(expr, x, 0)  \n",
    "     \n",
    "print(\"Limit of the expression tends to 0 : {}\".format(limit_expr)) "
   ]
  },
  {
   "cell_type": "markdown",
   "metadata": {},
   "source": [
    "Here is a different example with the function `(x^2 -1)/(x -1)`"
   ]
  },
  {
   "cell_type": "code",
   "execution_count": null,
   "metadata": {},
   "outputs": [],
   "source": [
    "from sympy import Limit, Symbol\n",
    "import numpy as np\n",
    "import matplotlib.pyplot as plt\n",
    "\n",
    "# define the function\n",
    "x = Symbol('x')\n",
    "f = (x**2 - 1)/(x - 1)\n",
    "\n",
    "# calculate the limit as x approaches 1\n",
    "limit = Limit(f, x, 1).doit()\n",
    "\n",
    "print(\"The limit of the function as x approaches 1 is:\", limit)"
   ]
  },
  {
   "cell_type": "markdown",
   "metadata": {},
   "source": [
    "And an example with a limit as `x` tends to infinity:"
   ]
  },
  {
   "cell_type": "code",
   "execution_count": null,
   "metadata": {},
   "outputs": [],
   "source": [
    "import sympy as sp\n",
    "x = Symbol('x')\n",
    "f = (x + 1)/(x - 1)\n",
    "limit_result = sp.limit(f, x, sp.oo)\n",
    "print(limit_result)"
   ]
  },
  {
   "cell_type": "markdown",
   "metadata": {},
   "source": [
    "# References\n",
    "\n",
    "https://www.andreaminini.net/computer-science/python/calculating-function-limits-in-python\n",
    "\n",
    "https://www.youtube.com/watch?v=3SY4qkpVFkg (from my Statistical Mechanics Professor when I was an undergrad!)\n"
   ]
  },
  {
   "cell_type": "code",
   "execution_count": null,
   "metadata": {},
   "outputs": [],
   "source": []
  }
 ],
 "metadata": {
  "kernelspec": {
   "display_name": "Python 3 (ipykernel)",
   "language": "python",
   "name": "python3"
  },
  "language_info": {
   "codemirror_mode": {
    "name": "ipython",
    "version": 3
   },
   "file_extension": ".py",
   "mimetype": "text/x-python",
   "name": "python",
   "nbconvert_exporter": "python",
   "pygments_lexer": "ipython3",
   "version": "3.11.9"
  }
 },
 "nbformat": 4,
 "nbformat_minor": 4
}
