{
 "cells": [
  {
   "cell_type": "markdown",
   "metadata": {},
   "source": [
    "# Binomial Expansion\n",
    "\n",
    "\n",
    "There are many (reasonably complicated) examples of python code to compute binomial expansions. Here we will look at two examples - one to compute the binomial expansion coefficients using the scipy library, and one to actually perform the expansion itself using the sympy library we looked at during last class. \n",
    "\n",
    "\n",
    "The code below demonstrates the use of the scipy function `binom` which returns the binomial coefficient for the given values of `n` and `k`. The order the numbers are given in is `scipy.special.binom(n,k)` \n",
    "\n"
   ]
  },
  {
   "cell_type": "code",
   "execution_count": null,
   "metadata": {},
   "outputs": [],
   "source": [
    "import scipy \n",
    "from scipy.special import binom\n",
    "print(scipy.special.binom(5,2))"
   ]
  },
  {
   "cell_type": "markdown",
   "metadata": {},
   "source": [
    "Using the above code, do you find that particular values of `k` give you the same binomial coefficients? Write any pairs of coefficients in the space below. An empty cell is also included if you wish to copy and paste the above code."
   ]
  },
  {
   "cell_type": "code",
   "execution_count": null,
   "metadata": {},
   "outputs": [],
   "source": []
  },
  {
   "cell_type": "code",
   "execution_count": null,
   "metadata": {},
   "outputs": [],
   "source": []
  },
  {
   "cell_type": "markdown",
   "metadata": {},
   "source": [
    "We can use `sympy` to write out the binomial expansion, including coefficients, for positive, integer values of `n`"
   ]
  },
  {
   "cell_type": "code",
   "execution_count": null,
   "metadata": {},
   "outputs": [],
   "source": [
    "import sympy\n",
    "x, y = sympy.symbols(\"x y\")\n",
    "formula = (x + y) ** 5\n",
    "formula.expand()\n"
   ]
  },
  {
   "cell_type": "markdown",
   "metadata": {},
   "source": [
    "# Taylor Series\n",
    "\n",
    "\n",
    "\n",
    "One way we can use Taylor Series in Jupyter Notebooks is by calculating each term of the series directly. We can combine these terms in a line of Python code to estimate, for example,  e<sup>2</sup>. The code below calculates the sum of the first five terms of the Taylor Series expansion of e<sup>x</sup>, where x=2. Note the math module needs to be imported before math.factorial() can be used."
   ]
  },
  {
   "cell_type": "code",
   "execution_count": null,
   "metadata": {},
   "outputs": [],
   "source": [
    "import math\n",
    "\n",
    "x = 2\n",
    "e_to_2 = x**0/math.factorial(0) + x**1/math.factorial(1) + x**2/math.factorial(2) + x**3/math.factorial(3) + x**4/math.factorial(4)\n",
    "print(e_to_2)"
   ]
  },
  {
   "cell_type": "markdown",
   "metadata": {},
   "source": [
    "Our Taylor Series approximation of e<sup>2</sup> was calculated as 7.0. Let's compare our Taylor Series approximation to Python's `math.exp()` function. Python's `math.exp()` function raises e to any power. In our case, we want to use `math.exp(2)` because we want to calculate e<sup>2</sup>."
   ]
  },
  {
   "cell_type": "code",
   "execution_count": null,
   "metadata": {},
   "outputs": [],
   "source": [
    "print(math.exp(2))"
   ]
  },
  {
   "cell_type": "markdown",
   "metadata": {},
   "source": [
    "Our Taylor Series approximation 7.0 is not that far off the calculated value 7.389056... using Python's exp() function."
   ]
  },
  {
   "cell_type": "markdown",
   "metadata": {},
   "source": [
    "We can recreate our approximation of e<sup>2</sup> with 5 terms using a `for` loop. Note we need to set the variable e_to_2 to 0 before the loop starts. The mathematical operator += in the line `e_to_2 += x\\**i/math.factorial(i)` is equivalent to e_to_2 = e_to_2 + `x\\**i/math.factorial(i)`, which we used in our `while` loop in the last class."
   ]
  },
  {
   "cell_type": "code",
   "execution_count": null,
   "metadata": {},
   "outputs": [],
   "source": [
    "import math\n",
    "\n",
    "x = 2\n",
    "e_to_2 = 0\n",
    "for i in range(5):\n",
    "    e_to_2 += x**i/math.factorial(i)\n",
    "    \n",
    "print(e_to_2)"
   ]
  },
  {
   "cell_type": "markdown",
   "metadata": {},
   "source": [
    "This makes it much easier to change the number of terms in our Taylor Series! Copy the above code into the box below, and use it to calculate the value of e<sup>2</sup> by using a Taylor Series with 10 terms:"
   ]
  },
  {
   "cell_type": "code",
   "execution_count": null,
   "metadata": {},
   "outputs": [],
   "source": []
  },
  {
   "cell_type": "markdown",
   "metadata": {},
   "source": [
    "How does this value compare to the value given by the `exp` function? Which Taylor Series gives an approximation closest to the actual value?"
   ]
  },
  {
   "cell_type": "markdown",
   "metadata": {},
   "source": [
    "We can make our above code more easily reusable by writing it as a function:"
   ]
  },
  {
   "cell_type": "code",
   "execution_count": null,
   "metadata": {
    "scrolled": true
   },
   "outputs": [],
   "source": [
    "import math\n",
    "\n",
    "def func_e_to_2(n):\n",
    "    x = 2\n",
    "    e_to_2 = 0\n",
    "    for i in range(n):\n",
    "        e_to_2 += x**i/math.factorial(i)\n",
    "    \n",
    "    return e_to_2"
   ]
  },
  {
   "cell_type": "markdown",
   "metadata": {},
   "source": [
    "We can use the new function to calculate a Taylor Series approximation to e<sup>2</sup> with any number of terms eg:\n"
   ]
  },
  {
   "cell_type": "code",
   "execution_count": null,
   "metadata": {},
   "outputs": [],
   "source": [
    "func_e_to_2(1)"
   ]
  },
  {
   "cell_type": "markdown",
   "metadata": {},
   "source": [
    "We can be even more general by writing a function that will give a Taylor series approximation with `n` terms for e raised to any power `x`:"
   ]
  },
  {
   "cell_type": "code",
   "execution_count": null,
   "metadata": {},
   "outputs": [],
   "source": [
    "import math\n",
    "\n",
    "def func_e(x, n):\n",
    "    e_approx = 0\n",
    "    for i in range(n):\n",
    "        e_approx += x**i/math.factorial(i)\n",
    "    \n",
    "    return e_approx"
   ]
  },
  {
   "cell_type": "code",
   "execution_count": null,
   "metadata": {},
   "outputs": [],
   "source": [
    "func_e(2,5)"
   ]
  },
  {
   "cell_type": "markdown",
   "metadata": {},
   "source": [
    "### Plotting a Taylor Series Approximation\n",
    "\n",
    "\n",
    "One great thing about using Jupyter Notebooks is the ease with which we can produce plots! Let's have a look at a some Taylor Series approximations to the `cos(x)` function. We start with a piece of code which gives us the functon that will calculate our Taylor Series for cos(x) around the point x=0 up to a specified number of terms."
   ]
  },
  {
   "cell_type": "code",
   "execution_count": null,
   "metadata": {},
   "outputs": [],
   "source": [
    "import math\n",
    "\n",
    "def func_cos(x, n):\n",
    "    cos_approx = 0\n",
    "    for i in range(n):\n",
    "        coef = (-1)**i\n",
    "        num = x**(2*i)\n",
    "        denom = math.factorial(2*i)\n",
    "        cos_approx += ( coef ) * ( (num)/(denom) )\n",
    "    \n",
    "    return cos_approx"
   ]
  },
  {
   "cell_type": "markdown",
   "metadata": {},
   "source": [
    "We use this to estimate the value of cos(45) (degrees) using a Taylor Series with 5 terms:"
   ]
  },
  {
   "cell_type": "code",
   "execution_count": null,
   "metadata": {},
   "outputs": [],
   "source": [
    "angle_rad = (math.radians(45))\n",
    "out = func_cos(angle_rad,5)\n",
    "print(out)"
   ]
  },
  {
   "cell_type": "markdown",
   "metadata": {},
   "source": [
    "Comparing with the actual value:"
   ]
  },
  {
   "cell_type": "code",
   "execution_count": null,
   "metadata": {},
   "outputs": [],
   "source": [
    "out = math.cos(angle_rad)\n",
    "print(out)"
   ]
  },
  {
   "cell_type": "markdown",
   "metadata": {},
   "source": [
    "We see this is a pretty good approximation! Let's look at some plots showing Taylor Series approxmations to cos(x)"
   ]
  },
  {
   "cell_type": "code",
   "execution_count": null,
   "metadata": {},
   "outputs": [],
   "source": [
    "\n",
    "import math\n",
    "import numpy as np\n",
    "import matplotlib.pyplot as plt\n",
    "# if using a Jupyter notebook, include:\n",
    "%matplotlib inline\n",
    "\n",
    "angles = np.arange(-2*np.pi,2*np.pi,0.1)\n",
    "p_cos = np.cos(angles)\n",
    "\n",
    "fig, ax = plt.subplots()\n",
    "ax.plot(angles,p_cos)\n",
    "\n",
    "# add lines for between 1 and 6 terms in the Taylor Series\n",
    "for i in range(1,6):\n",
    "    t_cos = [func_cos(angle,i) for angle in angles]\n",
    "    ax.plot(angles,t_cos)\n",
    "\n",
    "ax.set_ylim([-7,4])\n",
    "\n",
    "# set up legend\n",
    "legend_lst = ['cos() function']\n",
    "for i in range(1,6):\n",
    "    legend_lst.append(f'Taylor Series - {i} terms')\n",
    "ax.legend(legend_lst, loc=3)\n",
    "\n",
    "plt.show()"
   ]
  },
  {
   "cell_type": "markdown",
   "metadata": {},
   "source": [
    "We see the Taylor Series with 5 terms (the brown line) comes closest to approximating Python's cos() function. The Taylor Series with 5 terms is a good approximation of the cosine of angles between about −π and π radians. The Taylor Series with 5 terms is a worse approximation for angles less than −π or greater than π. As the angle gets further away from zero radians, the estimate of the cosine using a Taylor Series gets worse and worse."
   ]
  },
  {
   "cell_type": "markdown",
   "metadata": {},
   "source": [
    "# References\n",
    "\n",
    "https://www.askpython.com/python/examples/binomial-coefficient\n",
    "\n",
    "\n",
    "https://pythonforundergradengineers.com/creating-taylor-series-functions-with-python.html\n",
    "\n",
    "\n"
   ]
  }
 ],
 "metadata": {
  "kernelspec": {
   "display_name": "Python 3 (ipykernel)",
   "language": "python",
   "name": "python3"
  },
  "language_info": {
   "codemirror_mode": {
    "name": "ipython",
    "version": 3
   },
   "file_extension": ".py",
   "mimetype": "text/x-python",
   "name": "python",
   "nbconvert_exporter": "python",
   "pygments_lexer": "ipython3",
   "version": "3.12.4"
  }
 },
 "nbformat": 4,
 "nbformat_minor": 4
}
